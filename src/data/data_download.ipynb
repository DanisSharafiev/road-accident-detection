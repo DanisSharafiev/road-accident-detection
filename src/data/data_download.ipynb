{
 "cells": [
  {
   "cell_type": "code",
   "execution_count": 5,
   "id": "f63b07ae",
   "metadata": {},
   "outputs": [
    {
     "name": "stdout",
     "output_type": "stream",
     "text": [
      "Warning: Looks like you're using an outdated `kagglehub` version (installed: 0.3.11), please consider upgrading to the latest version (0.3.13).\n",
      "C:\\Users\\harne\\.cache\\kagglehub\\datasets\\ckay16\\accident-detection-from-cctv-footage\\versions\\1\n"
     ]
    }
   ],
   "source": [
    "import kagglehub\n",
    "import os\n",
    "import shutil\n",
    "\n",
    "dataset_ref = \"ckay16/accident-detection-from-cctv-footage\"\n",
    "\n",
    "datasets_path = '../../datasets/'\n",
    "\n",
    "path = kagglehub.dataset_download(handle = dataset_ref)\n",
    "\n",
    "os.makedirs(datasets_path, exist_ok=True)\n",
    "\n",
    "dataset_name = os.path.basename(path)\n",
    "shutil.move(path, os.path.join(datasets_path, dataset_name))\n",
    "\n",
    "print(path)"
   ]
  }
 ],
 "metadata": {
  "kernelspec": {
   "display_name": "Python 3",
   "language": "python",
   "name": "python3"
  },
  "language_info": {
   "codemirror_mode": {
    "name": "ipython",
    "version": 3
   },
   "file_extension": ".py",
   "mimetype": "text/x-python",
   "name": "python",
   "nbconvert_exporter": "python",
   "pygments_lexer": "ipython3",
   "version": "3.12.9"
  }
 },
 "nbformat": 4,
 "nbformat_minor": 5
}
