{
 "cells": [
  {
   "cell_type": "code",
   "execution_count": 3,
   "id": "f63b07ae",
   "metadata": {},
   "outputs": [
    {
     "name": "stdout",
     "output_type": "stream",
     "text": [
      "Downloading from https://www.kaggle.com/api/v1/datasets/download/ckay16/accident-detection-from-cctv-footage?dataset_version_number=1...\n"
     ]
    },
    {
     "name": "stderr",
     "output_type": "stream",
     "text": [
      "100%|██████████| 249M/249M [00:17<00:00, 14.9MB/s] "
     ]
    },
    {
     "name": "stdout",
     "output_type": "stream",
     "text": [
      "Extracting files...\n"
     ]
    },
    {
     "name": "stderr",
     "output_type": "stream",
     "text": [
      "\n"
     ]
    },
    {
     "name": "stdout",
     "output_type": "stream",
     "text": [
      "C:\\Users\\Антон\\.cache\\kagglehub\\datasets\\ckay16\\accident-detection-from-cctv-footage\\versions\\1\n"
     ]
    }
   ],
   "source": [
    "import kagglehub\n",
    "import os\n",
    "import shutil\n",
    "\n",
    "dataset_ref = \"ckay16/accident-detection-from-cctv-footage\"\n",
    "\n",
    "datasets_path = '../../datasets/'\n",
    "\n",
    "path = kagglehub.dataset_download(handle = dataset_ref)\n",
    "\n",
    "os.makedirs(datasets_path, exist_ok=True)\n",
    "\n",
    "dataset_name = os.path.basename(path)\n",
    "shutil.move(path, os.path.join(datasets_path, dataset_name))\n",
    "\n",
    "print(path)"
   ]
  }
 ],
 "metadata": {
  "kernelspec": {
   "display_name": "base",
   "language": "python",
   "name": "python3"
  },
  "language_info": {
   "codemirror_mode": {
    "name": "ipython",
    "version": 3
   },
   "file_extension": ".py",
   "mimetype": "text/x-python",
   "name": "python",
   "nbconvert_exporter": "python",
   "pygments_lexer": "ipython3",
   "version": "3.12.7"
  }
 },
 "nbformat": 4,
 "nbformat_minor": 5
}
